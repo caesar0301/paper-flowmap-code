{
 "cells": [
  {
   "cell_type": "code",
   "execution_count": 75,
   "metadata": {
    "collapsed": false
   },
   "outputs": [
    {
     "name": "stdout",
     "output_type": "stream",
     "text": [
      "[[ 0.          0.        ]\n",
      " [ 0.67582462  0.        ]]\n"
     ]
    }
   ],
   "source": [
    "import networkx  as nx\n",
    "import shapefile\n",
    "import numpy as np\n",
    "import pandas as pd\n",
    "import json\n",
    "import smopy\n",
    "import matplotlib.pyplot as plt\n",
    "import matplotlib as mpl\n",
    "\n",
    "def shape2graph(shpfile, distance=True):\n",
    "    \"\"\"This function converts a ERIS shapefile into an undirected\n",
    "    graph in NetworkX.\n",
    "    \"\"\"\n",
    "    g = nx.read_shp(shpfile)\n",
    "    mg = max(nx.connected_component_subgraphs(g.to_undirected()), key=len)\n",
    "    if distance: # add distance progperty to edges\n",
    "        for n0, n1 in mg.edges_iter():\n",
    "            # get an array of point coordinates along the road\n",
    "            path = get_path_segment(mg, n0, n1)\n",
    "            distance = get_path_length(path)\n",
    "            mg.edge[n0][n1]['distance'] = distance\n",
    "    return mg\n",
    "\n",
    "def shape2points(shpfile):\n",
    "    sf = shapefile.Reader(shpfile)\n",
    "    return [ shape.points[0] for shape in sf.shapes()]\n",
    "\n",
    "def get_path_segment(G, n0, n1):\n",
    "    \"\"\"If n0 and n1 are connected nodes in the graph, this function\n",
    "    return an array of point coordinates along the road linking\n",
    "    these two nodes.\n",
    "    \"\"\"\n",
    "    return np.array(json.loads(G[n0][n1]['Json'])['coordinates'])\n",
    "\n",
    "def get_path_length(path):\n",
    "    \"\"\"Return the total geographical distance between two\n",
    "    origions of a path.\n",
    "    \"\"\"\n",
    "    return np.sum(geocalc(path[1:,0], path[1:,1], path[:-1,0], path[:-1,1]))\n",
    "\n",
    "def geocalc(lon0, lat0, lon1, lat1):\n",
    "    \"\"\"Return the distance (in km) between two points in \n",
    "    geographical coordinates.\n",
    "    \"\"\"\n",
    "    EARTH_R = 6372.8\n",
    "    lat0 = np.radians(lat0)\n",
    "    lon0 = np.radians(lon0)\n",
    "    lat1 = np.radians(lat1)\n",
    "    lon1 = np.radians(lon1)\n",
    "    dlon = lon0 - lon1\n",
    "    y = np.sqrt(\n",
    "        (np.cos(lat1) * np.sin(dlon)) ** 2\n",
    "         + (np.cos(lat0) * np.sin(lat1) \n",
    "         - np.sin(lat0) * np.cos(lat1) * np.cos(dlon)) ** 2)\n",
    "    x = np.sin(lat0) * np.sin(lat1) + \\\n",
    "        np.cos(lat0) * np.cos(lat1) * np.cos(dlon)\n",
    "    c = np.arctan2(y, x)\n",
    "    return EARTH_R * c\n",
    "\n",
    "def shortest_path(G, lonlat1, lonlat2, weight='distance'):\n",
    "    \"\"\"Find the shortest path for a pair of points. These two points are not\n",
    "    required to be the vertex of graph.\n",
    "    \"\"\"\n",
    "    # Get the closest nodes in given graph\n",
    "    nodes = np.array(G.nodes())\n",
    "    p1 = np.argmin(np.sum((nodes[:,:] - lonlat1)**2, axis=1))\n",
    "    p2 = np.argmin(np.sum((nodes[:,:] - lonlat2)**2, axis=1))\n",
    "    # Get segments of shortest path\n",
    "    path = nx.shortest_path(G, tuple(nodes[p1]), tuple(nodes[p2]), weight)\n",
    "    return path\n",
    "    \n",
    "def shortest_distance(G, lonlat1, lonlat2, weight='distance'):\n",
    "    \"\"\"Return the distance of two points with the shortest path algorithm.\n",
    "    \"\"\"\n",
    "    sp = shortest_path(G, lonlat1, lonlat2, weight)\n",
    "    return np.sum([G.edge[sp[i]][sp[i+1]][weight] for i in range(len(sp)-1)])\n",
    "\n",
    "def spmatrix(G, points, weight='distance'):\n",
    "    \"\"\" Return the pair-wise shortest distance matrix\n",
    "    given a list of points.\n",
    "    \"\"\"\n",
    "    def sp(i, j):\n",
    "        return shortest_distance(G, points[i], points[j], weight)\n",
    "\n",
    "    dMat = []\n",
    "    for i in range(0, len(points)):\n",
    "        v = [ sp(i, j) if i > j else 0 for j in range(0, len(points))]\n",
    "        dMat.append(v)\n",
    "    return np.array(dMat)\n"
   ]
  },
  {
   "cell_type": "code",
   "execution_count": null,
   "metadata": {
    "collapsed": false
   },
   "outputs": [],
   "source": [
    "\n",
    "\n",
    "pos0 = (120.1667658, 30.2627782)\n",
    "pos1 = (120.1713975, 30.2651361)\n",
    "\n",
    "sg = shape2graph('map/hz2/roads_clean.shp')\n",
    "path = shortest_path(sg, pos0, pos1)\n",
    "\n",
    "distance = np.sum([sg.edge[path[i]][path[i+1]]['distance'] for i in range(len(path)-1)])\n",
    "\n",
    "points = shape2points('map/hz2/mobilenetwork.shp')\n",
    "print spmatrix(sg, points)\n"
   ]
  }
 ],
 "metadata": {
  "kernelspec": {
   "display_name": "Python 2",
   "language": "python",
   "name": "python2"
  },
  "language_info": {
   "codemirror_mode": {
    "name": "ipython",
    "version": 2
   },
   "file_extension": ".py",
   "mimetype": "text/x-python",
   "name": "python",
   "nbconvert_exporter": "python",
   "pygments_lexer": "ipython2",
   "version": "2.7.10"
  }
 },
 "nbformat": 4,
 "nbformat_minor": 0
}
