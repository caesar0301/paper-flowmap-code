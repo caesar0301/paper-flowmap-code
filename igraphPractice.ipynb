{
 "cells": [
  {
   "cell_type": "code",
   "execution_count": 4,
   "metadata": {
    "collapsed": true
   },
   "outputs": [],
   "source": [
    "import igraph\n",
    "\n",
    "def create_graph_list(seq):\n",
    "    seq = [ str(i) for i in seq ]\n",
    "    vertices = sorted(set(seq))\n",
    "    N = len(seq)\n",
    "    edges = [ i for i in zip(seq[0:N-2], seq[1:N-1]) if i[0] != i[1] ]\n",
    "\n",
    "    g = igraph.Graph(directed = True)\n",
    "    g.add_vertices(vertices)\n",
    "    g.add_edges(edges)\n",
    "    g.es[\"weight\"] = 1\n",
    "\n",
    "    return g"
   ]
  },
  {
   "cell_type": "code",
   "execution_count": 2,
   "metadata": {
    "collapsed": true
   },
   "outputs": [
    {
     "data": {
      "image/svg+xml": [
       "<?xml version=\"1.0\" encoding=\"UTF-8\"?>\n",
       "<svg xmlns=\"http://www.w3.org/2000/svg\" xmlns:xlink=\"http://www.w3.org/1999/xlink\" width=\"600pt\" height=\"600pt\" viewBox=\"0 0 600 600\" version=\"1.1\">\n",
       "<g id=\"surface2\">\n",
       "<rect x=\"0\" y=\"0\" width=\"600\" height=\"600\" style=\"fill:rgb(100%,100%,100%);fill-opacity:1;stroke:none;\"/>\n",
       "<path style=\"fill:none;stroke-width:1;stroke-linecap:butt;stroke-linejoin:miter;stroke:rgb(26.666667%,26.666667%,26.666667%);stroke-opacity:1;stroke-miterlimit:10;\" d=\"M 178.988281 243.316406 L 282.269531 43.394531 \"/>\n",
       "<path style=\" stroke:none;fill-rule:nonzero;fill:rgb(26.666667%,26.666667%,26.666667%);fill-opacity:1;\" d=\"M 288.816406 30.722656 L 286.386719 45.523438 L 278.148438 41.269531 L 288.816406 30.722656 \"/>\n",
       "<path style=\"fill:none;stroke-width:1;stroke-linecap:butt;stroke-linejoin:miter;stroke:rgb(26.666667%,26.666667%,26.666667%);stroke-opacity:1;stroke-miterlimit:10;\" d=\"M 293.40625 21.835938 L 454.144531 20.242188 \"/>\n",
       "<path style=\" stroke:none;fill-rule:nonzero;fill:rgb(26.666667%,26.666667%,26.666667%);fill-opacity:1;\" d=\"M 468.410156 20.097656 L 454.191406 24.875 L 454.097656 15.605469 L 468.410156 20.097656 \"/>\n",
       "<path style=\"fill:none;stroke-width:1;stroke-linecap:butt;stroke-linejoin:miter;stroke:rgb(26.666667%,26.666667%,26.666667%);stroke-opacity:1;stroke-miterlimit:10;\" d=\"M 478.410156 20 L 569.824219 217.925781 \"/>\n",
       "<path style=\" stroke:none;fill-rule:nonzero;fill:rgb(26.666667%,26.666667%,26.666667%);fill-opacity:1;\" d=\"M 575.808594 230.875 L 565.617188 219.867188 L 574.035156 215.980469 L 575.808594 230.875 \"/>\n",
       "<path style=\"fill:none;stroke-width:1;stroke-linecap:butt;stroke-linejoin:miter;stroke:rgb(26.666667%,26.666667%,26.666667%);stroke-opacity:1;stroke-miterlimit:10;\" d=\"M 580 239.953125 C 617.304688 293 618.96875 347.839844 575.238281 395.527344 \"/>\n",
       "<path style=\" stroke:none;fill-rule:nonzero;fill:rgb(26.666667%,26.666667%,26.666667%);fill-opacity:1;\" d=\"M 565.597656 406.039062 L 571.824219 392.390625 L 578.65625 398.660156 L 565.597656 406.039062 \"/>\n",
       "<path style=\"fill:none;stroke-width:1;stroke-linecap:butt;stroke-linejoin:miter;stroke:rgb(26.666667%,26.666667%,26.666667%);stroke-opacity:1;stroke-miterlimit:10;\" d=\"M 558.847656 413.402344 C 521.539062 360.355469 519.875 305.515625 563.605469 257.828125 \"/>\n",
       "<path style=\" stroke:none;fill-rule:nonzero;fill:rgb(26.666667%,26.666667%,26.666667%);fill-opacity:1;\" d=\"M 573.25 247.316406 L 567.023438 260.964844 L 560.191406 254.695312 L 573.25 247.316406 \"/>\n",
       "<path style=\"fill:none;stroke-width:1;stroke-linecap:butt;stroke-linejoin:miter;stroke:rgb(26.666667%,26.666667%,26.666667%);stroke-opacity:1;stroke-miterlimit:10;\" d=\"M 580 239.953125 L 561.785156 389.3125 \"/>\n",
       "<path style=\" stroke:none;fill-rule:nonzero;fill:rgb(26.666667%,26.666667%,26.666667%);fill-opacity:1;\" d=\"M 560.058594 403.476562 L 557.183594 388.753906 L 566.386719 389.875 L 560.058594 403.476562 \"/>\n",
       "<path style=\"fill:none;stroke-width:1;stroke-linecap:butt;stroke-linejoin:miter;stroke:rgb(26.666667%,26.666667%,26.666667%);stroke-opacity:1;stroke-miterlimit:10;\" d=\"M 558.847656 413.402344 L 426.285156 561.898438 \"/>\n",
       "<path style=\" stroke:none;fill-rule:nonzero;fill:rgb(26.666667%,26.666667%,26.666667%);fill-opacity:1;\" d=\"M 416.785156 572.539062 L 422.828125 558.8125 L 429.742188 564.984375 L 416.785156 572.539062 \"/>\n",
       "<path style=\"fill:none;stroke-width:1;stroke-linecap:butt;stroke-linejoin:miter;stroke:rgb(26.666667%,26.666667%,26.666667%);stroke-opacity:1;stroke-miterlimit:10;\" d=\"M 410.125 580 L 257.195312 511.136719 \"/>\n",
       "<path style=\" stroke:none;fill-rule:nonzero;fill:rgb(26.666667%,26.666667%,26.666667%);fill-opacity:1;\" d=\"M 244.1875 505.277344 L 259.101562 506.910156 L 255.292969 515.359375 L 244.1875 505.277344 \"/>\n",
       "<path style=\"fill:none;stroke-width:1;stroke-linecap:butt;stroke-linejoin:miter;stroke:rgb(26.666667%,26.666667%,26.666667%);stroke-opacity:1;stroke-miterlimit:10;\" d=\"M 235.070312 501.171875 L 184.144531 267.027344 \"/>\n",
       "<path style=\" stroke:none;fill-rule:nonzero;fill:rgb(26.666667%,26.666667%,26.666667%);fill-opacity:1;\" d=\"M 181.113281 253.089844 L 188.675781 266.042969 L 179.617188 268.015625 L 181.113281 253.089844 \"/>\n",
       "<path style=\"fill:none;stroke-width:1;stroke-linecap:butt;stroke-linejoin:miter;stroke:rgb(26.666667%,26.666667%,26.666667%);stroke-opacity:1;stroke-miterlimit:10;\" d=\"M 178.988281 243.316406 L 43.753906 215.078125 \"/>\n",
       "<path style=\" stroke:none;fill-rule:nonzero;fill:rgb(26.666667%,26.666667%,26.666667%);fill-opacity:1;\" d=\"M 29.789062 212.164062 L 44.699219 210.542969 L 42.804688 219.617188 L 29.789062 212.164062 \"/>\n",
       "<path style=\"fill-rule:nonzero;fill:rgb(100%,0%,0%);fill-opacity:1;stroke-width:1;stroke-linecap:butt;stroke-linejoin:miter;stroke:rgb(0%,0%,0%);stroke-opacity:1;stroke-miterlimit:10;\" d=\"M 303.40625 21.835938 C 303.40625 27.359375 298.929688 31.835938 293.40625 31.835938 C 287.882812 31.835938 283.40625 27.359375 283.40625 21.835938 C 283.40625 16.3125 287.882812 11.835938 293.40625 11.835938 C 298.929688 11.835938 303.40625 16.3125 303.40625 21.835938 \"/>\n",
       "<path style=\"fill-rule:nonzero;fill:rgb(100%,0%,0%);fill-opacity:1;stroke-width:1;stroke-linecap:butt;stroke-linejoin:miter;stroke:rgb(0%,0%,0%);stroke-opacity:1;stroke-miterlimit:10;\" d=\"M 420.125 580 C 420.125 585.523438 415.648438 590 410.125 590 C 404.601562 590 400.125 585.523438 400.125 580 C 400.125 574.476562 404.601562 570 410.125 570 C 415.648438 570 420.125 574.476562 420.125 580 \"/>\n",
       "<path style=\"fill-rule:nonzero;fill:rgb(100%,0%,0%);fill-opacity:1;stroke-width:1;stroke-linecap:butt;stroke-linejoin:miter;stroke:rgb(0%,0%,0%);stroke-opacity:1;stroke-miterlimit:10;\" d=\"M 30 210.121094 C 30 215.640625 25.523438 220.121094 20 220.121094 C 14.476562 220.121094 10 215.640625 10 210.121094 C 10 204.597656 14.476562 200.121094 20 200.121094 C 25.523438 200.121094 30 204.597656 30 210.121094 \"/>\n",
       "<path style=\"fill-rule:nonzero;fill:rgb(100%,0%,0%);fill-opacity:1;stroke-width:1;stroke-linecap:butt;stroke-linejoin:miter;stroke:rgb(0%,0%,0%);stroke-opacity:1;stroke-miterlimit:10;\" d=\"M 488.410156 20 C 488.410156 25.523438 483.933594 30 478.410156 30 C 472.886719 30 468.410156 25.523438 468.410156 20 C 468.410156 14.476562 472.886719 10 478.410156 10 C 483.933594 10 488.410156 14.476562 488.410156 20 \"/>\n",
       "<path style=\"fill-rule:nonzero;fill:rgb(100%,0%,0%);fill-opacity:1;stroke-width:1;stroke-linecap:butt;stroke-linejoin:miter;stroke:rgb(0%,0%,0%);stroke-opacity:1;stroke-miterlimit:10;\" d=\"M 245.070312 501.171875 C 245.070312 506.695312 240.59375 511.171875 235.070312 511.171875 C 229.546875 511.171875 225.070312 506.695312 225.070312 501.171875 C 225.070312 495.648438 229.546875 491.171875 235.070312 491.171875 C 240.59375 491.171875 245.070312 495.648438 245.070312 501.171875 \"/>\n",
       "<path style=\"fill-rule:nonzero;fill:rgb(100%,0%,0%);fill-opacity:1;stroke-width:1;stroke-linecap:butt;stroke-linejoin:miter;stroke:rgb(0%,0%,0%);stroke-opacity:1;stroke-miterlimit:10;\" d=\"M 568.847656 413.402344 C 568.847656 418.925781 564.367188 423.402344 558.847656 423.402344 C 553.324219 423.402344 548.847656 418.925781 548.847656 413.402344 C 548.847656 407.878906 553.324219 403.402344 558.847656 403.402344 C 564.367188 403.402344 568.847656 407.878906 568.847656 413.402344 \"/>\n",
       "<path style=\"fill-rule:nonzero;fill:rgb(100%,0%,0%);fill-opacity:1;stroke-width:1;stroke-linecap:butt;stroke-linejoin:miter;stroke:rgb(0%,0%,0%);stroke-opacity:1;stroke-miterlimit:10;\" d=\"M 590 239.953125 C 590 245.476562 585.523438 249.953125 580 249.953125 C 574.476562 249.953125 570 245.476562 570 239.953125 C 570 234.429688 574.476562 229.953125 580 229.953125 C 585.523438 229.953125 590 234.429688 590 239.953125 \"/>\n",
       "<path style=\"fill-rule:nonzero;fill:rgb(100%,0%,0%);fill-opacity:1;stroke-width:1;stroke-linecap:butt;stroke-linejoin:miter;stroke:rgb(0%,0%,0%);stroke-opacity:1;stroke-miterlimit:10;\" d=\"M 188.988281 243.316406 C 188.988281 248.839844 184.511719 253.316406 178.988281 253.316406 C 173.464844 253.316406 168.988281 248.839844 168.988281 243.316406 C 168.988281 237.792969 173.464844 233.316406 178.988281 233.316406 C 184.511719 233.316406 188.988281 237.792969 188.988281 243.316406 \"/>\n",
       "</g>\n",
       "</svg>\n"
      ],
      "text/plain": [
       "<igraph.drawing.Plot at 0x7f679462c710>"
      ]
     },
     "execution_count": 2,
     "metadata": {},
     "output_type": "execute_result"
    }
   ],
   "source": [
    "a = [9391, 11357, 25869, 8653, 33497, 8653, 33497, 163, 32507, 32507, 9391, 23523, 9391]\n",
    "\n",
    "g = create_graph_list(a)\n",
    "igraph.plot(g)"
   ]
  },
  {
   "cell_type": "code",
   "execution_count": 12,
   "metadata": {
    "collapsed": false
   },
   "outputs": [
    {
     "name": "stdout",
     "output_type": "stream",
     "text": [
      "IGRAPH UN-- 13 0 --\n",
      "+ attr: name (v)\n"
     ]
    }
   ],
   "source": [
    "from igraph import *\n",
    "\n",
    "a = [9391, 11357, 25869, 8653, 33497, 8653, 33497, 163, 32507, 32507, 9391, 23523, 9391]\n",
    "g = Graph()\n",
    "g.add_vertices(a)\n",
    "plot(g)\n",
    "\n",
    "print(g)"
   ]
  },
  {
   "cell_type": "code",
   "execution_count": null,
   "metadata": {
    "collapsed": true
   },
   "outputs": [],
   "source": []
  }
 ],
 "metadata": {
  "kernelspec": {
   "display_name": "Python 2",
   "language": "python",
   "name": "python2"
  },
  "language_info": {
   "codemirror_mode": {
    "name": "ipython",
    "version": 2
   },
   "file_extension": ".py",
   "mimetype": "text/x-python",
   "name": "python",
   "nbconvert_exporter": "python",
   "pygments_lexer": "ipython2",
   "version": "2.7.9"
  }
 },
 "nbformat": 4,
 "nbformat_minor": 0
}
